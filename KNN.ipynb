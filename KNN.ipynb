{
  "nbformat": 4,
  "nbformat_minor": 0,
  "metadata": {
    "colab": {
      "name": "KNN.ipynb",
      "provenance": [],
      "authorship_tag": "ABX9TyMrMZ9sXBx3nFU2yNnolg8U",
      "include_colab_link": true
    },
    "kernelspec": {
      "name": "python3",
      "display_name": "Python 3"
    }
  },
  "cells": [
    {
      "cell_type": "markdown",
      "metadata": {
        "id": "view-in-github",
        "colab_type": "text"
      },
      "source": [
        "<a href=\"https://colab.research.google.com/github/vishal-codes/LSTM-Neural-Network-for-Time-Series-Prediction/blob/master/KNN.ipynb\" target=\"_parent\"><img src=\"https://colab.research.google.com/assets/colab-badge.svg\" alt=\"Open In Colab\"/></a>"
      ]
    },
    {
      "cell_type": "code",
      "metadata": {
        "id": "miD4J9hMT-nB",
        "colab_type": "code",
        "colab": {}
      },
      "source": [
        "# Example of getting neighbors for an instance\n",
        "from math import sqrt\n",
        " \n",
        "# calculate the Euclidean distance between two vectors\n",
        "def euclidean_distance(row1, row2):\n",
        "\tdistance = 0.0\n",
        "\tfor i in range(len(row1)-1):\n",
        "\t\tdistance += (row1[i] - row2[i])**2\n",
        "\treturn sqrt(distance)"
      ],
      "execution_count": 0,
      "outputs": []
    },
    {
      "cell_type": "code",
      "metadata": {
        "id": "32y6V-1wVCsj",
        "colab_type": "code",
        "colab": {}
      },
      "source": [
        "# Locate the most similar neighbors\n",
        "def get_neighbors(train, test_row, num_neighbors):\n",
        "  distances = list()\n",
        "  for train_row in train:\n",
        "    dist = euclidean_distance(test_row, train_row)\n",
        "    distances.append((train_row, dist))\n",
        "  print('\\n\\n Distances \\n\\n')\n",
        "  for d in distances:\n",
        "     print(d)\n",
        "  print('\\n\\n')\n",
        "  distances.sort(key=lambda tup: tup[1])\n",
        "  neighbors = list()\n",
        "  for i in range(num_neighbors):\n",
        "    neighbors.append(distances[i][0])\n",
        "  return neighbors"
      ],
      "execution_count": 0,
      "outputs": []
    },
    {
      "cell_type": "code",
      "metadata": {
        "id": "n_snaa5VVFjT",
        "colab_type": "code",
        "outputId": "fa0293e1-d197-4c7c-ca54-8ddc4c3b7fc5",
        "colab": {
          "base_uri": "https://localhost:8080/",
          "height": 638
        }
      },
      "source": [
        "dataset = [[158,58,0],\n",
        "           [158,59,0],\n",
        "           [158,63,0],\n",
        "           [160,59,0],\n",
        "           [160,60,0],\n",
        "           [163,61,0],\n",
        "           [160,64,1],\n",
        "           [163,64,1],\n",
        "           [165,61,1],\n",
        "           [165,62,1],\n",
        "           [165,65,1],\n",
        "           [168,62,1],\n",
        "           [168,63,1],\n",
        "           [168,66,1],\n",
        "           [170,63,1],\n",
        "           [170,64,1],\n",
        "           [170,68,1],\n",
        "           ]\n",
        "x = [160,63,0]\n",
        "x1 = [x]\n",
        "neighbors = get_neighbors(dataset, x, 5)\n",
        "print('\\n\\n Neighbours \\n\\n')\n",
        "\n",
        "for neighbor in neighbors:\n",
        "\tprint(neighbor)"
      ],
      "execution_count": 55,
      "outputs": [
        {
          "output_type": "stream",
          "text": [
            "\n",
            "\n",
            " Distances \n",
            "\n",
            "\n",
            "([158, 58, 0], 5.385164807134504)\n",
            "([158, 59, 0], 4.47213595499958)\n",
            "([158, 63, 0], 2.0)\n",
            "([160, 59, 0], 4.0)\n",
            "([160, 60, 0], 3.0)\n",
            "([163, 61, 0], 3.605551275463989)\n",
            "([160, 64, 1], 1.0)\n",
            "([163, 64, 1], 3.1622776601683795)\n",
            "([165, 61, 1], 5.385164807134504)\n",
            "([165, 62, 1], 5.0990195135927845)\n",
            "([165, 65, 1], 5.385164807134504)\n",
            "([168, 62, 1], 8.06225774829855)\n",
            "([168, 63, 1], 8.0)\n",
            "([168, 66, 1], 8.54400374531753)\n",
            "([170, 63, 1], 10.0)\n",
            "([170, 64, 1], 10.04987562112089)\n",
            "([170, 68, 1], 11.180339887498949)\n",
            "\n",
            "\n",
            "\n",
            "\n",
            "\n",
            " Neighbours \n",
            "\n",
            "\n",
            "[160, 64, 1]\n",
            "[158, 63, 0]\n",
            "[160, 60, 0]\n",
            "[163, 64, 1]\n",
            "[163, 61, 0]\n"
          ],
          "name": "stdout"
        }
      ]
    },
    {
      "cell_type": "markdown",
      "metadata": {
        "id": "O4VANQ5XWb-S",
        "colab_type": "text"
      },
      "source": [
        "Without Normalization"
      ]
    },
    {
      "cell_type": "code",
      "metadata": {
        "id": "iSNWvekOSCGQ",
        "colab_type": "code",
        "colab": {}
      },
      "source": [
        "dataset = [[158,58,0],\n",
        "           [158,59,0],\n",
        "           [158,63,0],\n",
        "           [160,59,0],\n",
        "           [160,60,0],\n",
        "           [163,61,0],\n",
        "           [160,64,1],\n",
        "           [163,64,1],\n",
        "           [165,61,1],\n",
        "           [165,62,1],\n",
        "           [165,65,1],\n",
        "           [168,62,1],\n",
        "           [168,63,1],\n",
        "           [168,66,1],\n",
        "           [170,63,1],\n",
        "           [170,64,1],\n",
        "           [170,68,1],\n",
        "           ]\n",
        "q = [160,63,1]"
      ],
      "execution_count": 0,
      "outputs": []
    },
    {
      "cell_type": "code",
      "metadata": {
        "id": "3-7pvik4SFPr",
        "colab_type": "code",
        "colab": {}
      },
      "source": [
        "min_max_scaler = preprocessing.MinMaxScaler()\n",
        "dataset.append(q)\n",
        "dataset = min_max_scaler.fit_transform(dataset)"
      ],
      "execution_count": 0,
      "outputs": []
    },
    {
      "cell_type": "code",
      "metadata": {
        "id": "HiYZBZpbSnbG",
        "colab_type": "code",
        "colab": {
          "base_uri": "https://localhost:8080/",
          "height": 656
        },
        "outputId": "d127567f-607e-40e6-e25c-7327268559c7"
      },
      "source": [
        "neighbors = get_neighbors(dataset, dataset[-1], 5)\n",
        "print('\\n\\n Neighbours \\n\\n')\n",
        "\n",
        "for neighbor in neighbors:\n",
        "\tprint(neighbor)"
      ],
      "execution_count": 59,
      "outputs": [
        {
          "output_type": "stream",
          "text": [
            "\n",
            "\n",
            " Distances \n",
            "\n",
            "\n",
            "(array([0., 0., 0.]), 0.5270462766947297)\n",
            "(array([0. , 0.1, 0. ]), 0.43333333333333346)\n",
            "(array([0. , 0.5, 0. ]), 0.16666666666666607)\n",
            "(array([0.16666667, 0.1       , 0.        ]), 0.40000000000000036)\n",
            "(array([0.16666667, 0.2       , 0.        ]), 0.3000000000000007)\n",
            "(array([0.41666667, 0.3       , 0.        ]), 0.32015621187164256)\n",
            "(array([0.16666667, 0.6       , 1.        ]), 0.09999999999999964)\n",
            "(array([0.41666667, 0.6       , 1.        ]), 0.2692582403567251)\n",
            "(array([0.58333333, 0.3       , 1.        ]), 0.46218082079540274)\n",
            "(array([0.58333333, 0.4       , 1.        ]), 0.4284986710727493)\n",
            "(array([0.58333333, 0.7       , 1.        ]), 0.46218082079540235)\n",
            "(array([0.83333333, 0.4       , 1.        ]), 0.6741249472052241)\n",
            "(array([0.83333333, 0.5       , 1.        ]), 0.6666666666666679)\n",
            "(array([0.83333333, 0.8       , 1.        ]), 0.731057073315378)\n",
            "(array([1. , 0.5, 1. ]), 0.8333333333333339)\n",
            "(array([1. , 0.6, 1. ]), 0.839311887467612)\n",
            "(array([1., 1., 1.]), 0.9718253158075506)\n",
            "(array([0.16666667, 0.5       , 1.        ]), 0.0)\n",
            "\n",
            "\n",
            "\n",
            "\n",
            "\n",
            " Neighbours \n",
            "\n",
            "\n",
            "[0.16666667 0.5        1.        ]\n",
            "[0.16666667 0.6        1.        ]\n",
            "[0.  0.5 0. ]\n",
            "[0.41666667 0.6        1.        ]\n",
            "[0.16666667 0.2        0.        ]\n"
          ],
          "name": "stdout"
        }
      ]
    },
    {
      "cell_type": "code",
      "metadata": {
        "id": "8JPg22KQTJJk",
        "colab_type": "code",
        "colab": {}
      },
      "source": [
        ""
      ],
      "execution_count": 0,
      "outputs": []
    }
  ]
}